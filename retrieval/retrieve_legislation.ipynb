{
 "cells": [
  {
   "cell_type": "code",
   "execution_count": 1,
   "id": "3cedef8e-05b1-4fd9-91ce-cdb50f951387",
   "metadata": {
    "tags": []
   },
   "outputs": [
    {
     "name": "stderr",
     "output_type": "stream",
     "text": [
      "Missing response data ../bills/bill_text_response_SC_S0585.json\n"
     ]
    },
    {
     "data": {
      "text/plain": [
       "486"
      ]
     },
     "execution_count": 1,
     "metadata": {},
     "output_type": "execute_result"
    }
   ],
   "source": [
    "from collections import namedtuple\n",
    "from itertools import chain, islice\n",
    "import json\n",
    "\n",
    "from lib.legiscan import (\n",
    "    get_bill_meta, \n",
    "    get_bill_text, \n",
    "    extract_bill_contents, \n",
    "    BillDescriptor,\n",
    ")\n",
    "\n",
    "RESOLVER_MAP = '../artifacts/resolver_map.json'\n",
    "TMP_PATH = '../tmp/legiscan'\n",
    "BILLS_PATH = '../bills'\n",
    "\n",
    "def retrieve_all(filename: str):\n",
    "    \n",
    "    mapper = {}\n",
    "    with open(filename, 'r') as f:\n",
    "        mapper = json.load(f)\n",
    "\n",
    "    tuples = chain.from_iterable(\n",
    "        (BillDescriptor(state, k, v) for k, v in m['bills'].items())\n",
    "        for state, m \n",
    "        in mapper.items()\n",
    "    )\n",
    "\n",
    "    metas = ((t, get_bill_meta(t, TMP_PATH)) for t in tuples)\n",
    "    responses = ((t, get_bill_text(t, TMP_PATH, meta)) for t, meta in metas)\n",
    "    extracts = (extract_bill_contents(t, BILLS_PATH, resp) for t, resp in responses)\n",
    "    return len(list(extracts))\n",
    "\n",
    "download_count = retrieve_all(RESOLVER_MAP)\n",
    "download_count"
   ]
  }
 ],
 "metadata": {
  "kernelspec": {
   "display_name": "Python 3 (ipykernel)",
   "language": "python",
   "name": "python3"
  },
  "language_info": {
   "codemirror_mode": {
    "name": "ipython",
    "version": 3
   },
   "file_extension": ".py",
   "mimetype": "text/x-python",
   "name": "python",
   "nbconvert_exporter": "python",
   "pygments_lexer": "ipython3",
   "version": "3.9.10"
  }
 },
 "nbformat": 4,
 "nbformat_minor": 5
}
