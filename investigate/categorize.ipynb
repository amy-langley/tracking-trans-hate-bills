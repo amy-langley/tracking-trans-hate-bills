{
 "cells": [
  {
   "cell_type": "code",
   "execution_count": 2,
   "id": "7be93370-6946-4ad6-9fe4-ceecebc1b053",
   "metadata": {
    "tags": []
   },
   "outputs": [],
   "source": [
    "from lib.tasks import categorize_aggregate_dataset\n",
    "\n",
    "categories = categorize_aggregate_dataset(\n",
    "    '../datasets/tracktranslegislation-meta.json',\n",
    "    '../artifacts/aggregate.json',\n",
    "    '../artifacts/categorized.json',\n",
    ")"
   ]
  }
 ],
 "metadata": {
  "kernelspec": {
   "display_name": "Python 3 (ipykernel)",
   "language": "python",
   "name": "python3"
  },
  "language_info": {
   "codemirror_mode": {
    "name": "ipython",
    "version": 3
   },
   "file_extension": ".py",
   "mimetype": "text/x-python",
   "name": "python",
   "nbconvert_exporter": "python",
   "pygments_lexer": "ipython3",
   "version": "3.9.10"
  }
 },
 "nbformat": 4,
 "nbformat_minor": 5
}
