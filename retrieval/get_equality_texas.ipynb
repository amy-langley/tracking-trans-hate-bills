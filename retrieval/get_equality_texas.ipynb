{
 "cells": [
  {
   "cell_type": "code",
   "execution_count": 1,
   "id": "a22a1e76-2efe-4a2e-a647-1fc34211c7dc",
   "metadata": {
    "tags": []
   },
   "outputs": [
    {
     "name": "stdout",
     "output_type": "stream",
     "text": [
      "Data \"equalitytexas.json\" refreshed with 139 items (0.17s elapsed)\n"
     ]
    }
   ],
   "source": [
    "from bs4 import BeautifulSoup as Soup\n",
    "from itertools import chain, islice, takewhile\n",
    "import json\n",
    "import re\n",
    "import requests\n",
    "import string\n",
    "import time\n",
    "\n",
    "TRACKER_URL = 'https://www.equalitytexas.org/legislature/legislative-bill-tracker-2023'\n",
    "OUTPUT_PATH = '../datasets/equalitytexas.json'\n",
    "\n",
    "def extract_row(row):\n",
    "    cells = row.find_all('td')\n",
    "    d = re.search(r'\\d{2}/\\d{2}/\\d{4}', cells[3].text)\n",
    "    return {\n",
    "        'state': 'TX',\n",
    "        'bill_id': cells[0].text,\n",
    "        'sponsors': [sponsor for sponsor in cells[1].text.split(' ') if sponsor not in string.punctuation],\n",
    "        'description': cells[2].text,\n",
    "        'status_date': d.group(0) if d else '',\n",
    "    }\n",
    "\n",
    "start_time = time.time()\n",
    "\n",
    "page = requests.get(TRACKER_URL)\n",
    "\n",
    "soup = Soup(page.content, 'html.parser')\n",
    "bad_bills = soup.find(id='bad-bills')\n",
    "\n",
    "bill_tables = islice(bad_bills.parent.parent.find_all('table'), 1, None)\n",
    "relevant_rows = chain.from_iterable(\n",
    "    (row for row in tbl.find_all('tr') if not row.find('th'))\n",
    "    for tbl\n",
    "    in bill_tables\n",
    ")\n",
    "\n",
    "dataset = list((takewhile(lambda r: r['bill_id'] != '#N/A', (extract_row(row) for row in relevant_rows))))\n",
    "\n",
    "with open(OUTPUT_PATH, 'w') as f:\n",
    "    json.dump(dataset, f, indent=2)\n",
    "\n",
    "end_time = time.time()\n",
    "\n",
    "print(f'Data \"equalitytexas.json\" refreshed with {len(dataset)} items ({(end_time-start_time):.2f}s elapsed)')"
   ]
  }
 ],
 "metadata": {
  "kernelspec": {
   "display_name": "Python 3 (ipykernel)",
   "language": "python",
   "name": "python3"
  },
  "language_info": {
   "codemirror_mode": {
    "name": "ipython",
    "version": 3
   },
   "file_extension": ".py",
   "mimetype": "text/x-python",
   "name": "python",
   "nbconvert_exporter": "python",
   "pygments_lexer": "ipython3",
   "version": "3.9.10"
  }
 },
 "nbformat": 4,
 "nbformat_minor": 5
}
