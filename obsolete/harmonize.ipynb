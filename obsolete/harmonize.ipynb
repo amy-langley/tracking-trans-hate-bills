{
 "cells": [
  {
   "cell_type": "code",
   "execution_count": null,
   "id": "67399271-698b-4883-9228-bcea6cc892b0",
   "metadata": {
    "tags": []
   },
   "outputs": [],
   "source": [
    "import pandas as pd\n",
    "import string\n",
    "\n",
    "ttl_data = pd.read_json('tracktranslegislation.json')\n",
    "aclu_data = pd.read_json('aclu.json')\n",
    "aclu_data['state'] = aclu_data['state'].transform(lambda x: x['value'])"
   ]
  },
  {
   "cell_type": "code",
   "execution_count": null,
   "id": "30f30a04-dbfc-49cf-8fe4-a71d6f841cf2",
   "metadata": {
    "tags": []
   },
   "outputs": [],
   "source": [
    "aclu_bills = aclu_data.copy()\n",
    "#aclu_bills['state'] = aclu_bills['state'].transform(lambda x: x['value'])\n",
    "aclu_bills['name'] = aclu_bills['name'].transform(lambda x: x.replace(' ', '').replace('23-', ''))\n",
    "aclu_bills = aclu_bills[['state', 'name']]\n",
    "\n",
    "ttl_bills = ttl_data[['state', 'billId']].rename(columns={'billId': 'name'})\n",
    "ttl_bills\n",
    "\n",
    "merged = aclu_bills.merge(ttl_bills, indicator=True, how='outer')\n",
    "# merged[merged['_merge'] == 'left_only']\n",
    "pd.set_option('display.max_rows', None)\n",
    "merged[merged['_merge'] != 'both'].sort_values(by=['state', 'name'])\n",
    "\n",
    "aclu_only = merged[merged['_merge'] == 'left_only']\n",
    "def match_suffix(num: str, billId: str):\n",
    "    if not billId.endswith(num):\n",
    "        return False\n",
    "    \n",
    "    search = billId.rstrip(num)[::-1]\n",
    "    for item in search:\n",
    "        if item in '123456789':\n",
    "            return False\n",
    "    \n",
    "    return True\n",
    "\n",
    "def advanced_check(row):\n",
    "    state = row['state']\n",
    "    ttl_for_state = list(ttl_bills.loc[ttl_bills.state == state]['name'])\n",
    "    prefix, num = row['name'].split(' ')\n",
    "    prefix = prefix.strip(string.punctuation)\n",
    "    candidates = sorted([\n",
    "        bill \n",
    "        for bill \n",
    "        in ttl_for_state \n",
    "        if (\n",
    "            bill[0] == prefix[0]\n",
    "            and match_suffix(num, bill)\n",
    "        )\n",
    "    ])\n",
    "    \n",
    "    return len(candidates) == 0\n",
    "\n",
    "#for idx, row in aclu_data.loc[aclu_only.index].iterrows():\n",
    "#    if advanced_check(row):\n",
    "#        pass\n",
    "#        print('\\t'.join([state, prefix, num, '|',  *candidates]))\n",
    "        \n",
    "\n",
    "# match_suffix('1674', 'S1674')\n",
    "first_filter = aclu_data.loc[aclu_only.index]\n",
    "second_filter = first_filter[first_filter.apply(lambda x: advanced_check(x), axis=1)]\n",
    "second_filter.sort_values(['state', 'name'])\n",
    "\n",
    "print(len(aclu_data))\n",
    "print(len(ttl_data))\n",
    "print(len(second_filter))\n",
    "second_filter"
   ]
  }
 ],
 "metadata": {
  "kernelspec": {
   "display_name": "Python 3 (ipykernel)",
   "language": "python",
   "name": "python3"
  },
  "language_info": {
   "codemirror_mode": {
    "name": "ipython",
    "version": 3
   },
   "file_extension": ".py",
   "mimetype": "text/x-python",
   "name": "python",
   "nbconvert_exporter": "python",
   "pygments_lexer": "ipython3",
   "version": "3.9.10"
  }
 },
 "nbformat": 4,
 "nbformat_minor": 5
}
