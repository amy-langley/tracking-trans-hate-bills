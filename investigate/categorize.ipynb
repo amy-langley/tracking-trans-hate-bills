{
 "cells": [
  {
   "cell_type": "code",
   "execution_count": 1,
   "id": "7be93370-6946-4ad6-9fe4-ceecebc1b053",
   "metadata": {
    "tags": []
   },
   "outputs": [],
   "source": [
    "from itertools import chain\n",
    "import json\n",
    "\n",
    "meta = {}\n",
    "with open('../datasets/tracktranslegislation-meta.json', 'r') as f:\n",
    "    meta = json.load(f)\n",
    "\n",
    "aggregated = {}\n",
    "with open('../artifacts/aggregate.json', 'r') as f:\n",
    "    aggregated = json.load(f)\n",
    "\n",
    "def categorize_aggregate(aggregate, keywords):\n",
    "    return set(\n",
    "        keyword[0]\n",
    "        for keyword\n",
    "        in keywords\n",
    "        if (\n",
    "            keyword[1] in aggregate['title'].lower()\n",
    "            or\n",
    "            keyword[1] in aggregate['description'].lower()\n",
    "        )\n",
    "    )\n",
    "\n",
    "keywords = list(chain.from_iterable(\n",
    "    ((category['name'], keyword) for keyword in category['keywords'])\n",
    "    for category\n",
    "    in meta\n",
    "))\n",
    "\n",
    "categorized = list(\n",
    "    (\n",
    "        aggregate['state'], \n",
    "        aggregate['bill_id'], \n",
    "        categorize_aggregate(aggregate, keywords)\n",
    "    )\n",
    "    \n",
    "    for aggregate\n",
    "    in aggregated\n",
    ")\n",
    "\n",
    "grouped = {\n",
    "    category['name']: [\n",
    "        categorize[0:2]\n",
    "        for categorize\n",
    "        in categorized\n",
    "        if category['name'] in categorize[2]\n",
    "    ]\n",
    "    for category\n",
    "    in meta\n",
    "}\n",
    "\n",
    "grouped['Uncategorized'] = [\n",
    "    categorize[0:2]\n",
    "    for categorize\n",
    "    in categorized\n",
    "    if len(categorize[2]) == 0\n",
    "]\n",
    "\n",
    "with open('../artifacts/categorized.json', 'w') as f:\n",
    "    json.dump(grouped, f, indent=2)"
   ]
  }
 ],
 "metadata": {
  "kernelspec": {
   "display_name": "Python 3 (ipykernel)",
   "language": "python",
   "name": "python3"
  },
  "language_info": {
   "codemirror_mode": {
    "name": "ipython",
    "version": 3
   },
   "file_extension": ".py",
   "mimetype": "text/x-python",
   "name": "python",
   "nbconvert_exporter": "python",
   "pygments_lexer": "ipython3",
   "version": "3.9.10"
  }
 },
 "nbformat": 4,
 "nbformat_minor": 5
}
