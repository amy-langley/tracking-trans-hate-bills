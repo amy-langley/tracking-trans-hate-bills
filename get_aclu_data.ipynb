{
 "cells": [
  {
   "cell_type": "code",
   "execution_count": 1,
   "id": "648447d6-afc8-44ae-adf1-99565bbd1fb1",
   "metadata": {
    "tags": []
   },
   "outputs": [
    {
     "name": "stdout",
     "output_type": "stream",
     "text": [
      "Data \"aclu.json\" refreshed with 412 items (0.21s elapsed)\n"
     ]
    }
   ],
   "source": [
    "from bs4 import BeautifulSoup\n",
    "from datetime import datetime, date\n",
    "import json\n",
    "from pprint import pprint\n",
    "import requests\n",
    "import time\n",
    "\n",
    "URL = \"https://www.aclu.org/legislative-attacks-on-lgbtq-rights\"\n",
    "\n",
    "start = time.time()\n",
    "page = requests.get(URL)\n",
    "\n",
    "soup = BeautifulSoup(page.content, \"html.parser\")\n",
    "bills = soup.find(id='map').find_all('legtracker')[0][':bills']\n",
    "\n",
    "# this bill was incorrectly attributed to NC instead of SC\n",
    "broken = 'https://www.scstatehouse.gov/sess125_2023-2024/bills/585.htm'\n",
    "def sanitize_item(item):\n",
    "    rewrite = {'state': {'value': 'SC', 'label': 'South Carolina'}} if 'scstatehouse' in item['link'] else {}\n",
    "    return {\n",
    "        **item,\n",
    "        **rewrite\n",
    "    }\n",
    "\n",
    "# for some reason a few of the items in the dataset are from late 2022\n",
    "def validate_date(item):\n",
    "    return datetime.strptime(item['status_date'], '%m/%d/%Y').date() > date.fromisoformat('2023-01-01')\n",
    "\n",
    "contents = [sanitize_item(item) for item in json.loads(bills) if validate_date(item)]\n",
    "\n",
    "with open('aclu.json', 'w') as outfile:\n",
    "    json.dump(contents, outfile)\n",
    "\n",
    "end = time.time()\n",
    "\n",
    "print(f'Data \"aclu.json\" refreshed with {len(contents)} items ({(end-start):.2f}s elapsed)')"
   ]
  }
 ],
 "metadata": {
  "kernelspec": {
   "display_name": "Python 3 (ipykernel)",
   "language": "python",
   "name": "python3"
  },
  "language_info": {
   "codemirror_mode": {
    "name": "ipython",
    "version": 3
   },
   "file_extension": ".py",
   "mimetype": "text/x-python",
   "name": "python",
   "nbconvert_exporter": "python",
   "pygments_lexer": "ipython3",
   "version": "3.9.10"
  }
 },
 "nbformat": 4,
 "nbformat_minor": 5
}
