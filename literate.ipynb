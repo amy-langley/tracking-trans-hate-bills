{
 "cells": [
  {
   "cell_type": "markdown",
   "id": "4d0aff60-3fee-4b1a-9249-ba2093782cb5",
   "metadata": {},
   "source": [
    "# Tracking Trans Hate Bills"
   ]
  },
  {
   "cell_type": "markdown",
   "id": "0b37e045-97d2-481c-92e0-0660f85365f4",
   "metadata": {},
   "source": [
    "## Why Are We Here?"
   ]
  },
  {
   "cell_type": "markdown",
   "id": "33129a44-9b5c-480b-8a46-fd2996ec133a",
   "metadata": {
    "tags": []
   },
   "source": [
    "In 2023, there have been an unprecedented number of bills introduced in state legislatures aimed at curtailing the rights of transgender people. Without discussing the politics of these actions, about which the author certainly has strong opinions, this project aims to study these laws for patterns and trends."
   ]
  },
  {
   "cell_type": "markdown",
   "id": "ec77775a-7af9-4a99-b851-9b492c5da9ff",
   "metadata": {},
   "source": [
    "## What Is Our Data?"
   ]
  },
  {
   "cell_type": "markdown",
   "id": "b39d2e40-4d76-4439-8f46-3f7df7ff30d9",
   "metadata": {
    "tags": []
   },
   "source": [
    "Monitoring the activities of 50 state legislatures is a very large project. Fortunately, several organizations have begun devoting time to doing exactly that. I started the project looking into data provided by the ACLU, but this notebook considers data provided by the website [https://www.tracktranslegislation.com/](https://www.tracktranslegislation.com/). \n",
    "\n",
    "![Track Trans Legislation](static/TTL.png)\n",
    "\n",
    "Note that the website does not freely distribute their dataset. This is not a criticism; I'm not sure that they are empowered to do so. Everything you see in a browser has to get there somehow, though! If we wish to work with their dataset, we need to acquire it somehow (think: the network tab of your browser). Once I had that dataset, I stored it as [tracktranslegislation.json](tracktranslegislation.json). The remainder of this notebook involves exploring that dataset."
   ]
  },
  {
   "cell_type": "markdown",
   "id": "b95851eb-d699-4c0f-b962-efae3b7d9d6d",
   "metadata": {
    "tags": []
   },
   "source": [
    "## Understanding the Dataset"
   ]
  },
  {
   "cell_type": "markdown",
   "id": "781a8c8c-d39b-4f6b-981e-3273444e38b2",
   "metadata": {},
   "source": [
    "The data is a series of records--one per proposed bill--stored in JSON format. Here is a snippet of the beginning of the file:\n",
    "\n",
    "```json\n",
    "[\n",
    "    {\n",
    "        \"id\": 0,\n",
    "        \"billId\": \"HB27\",\n",
    "        \"legiscanId\": \"1646385\",\n",
    "        \"title\": \"Designate Sex For School-sponsored Sports\",\n",
    "        \"description\": \"An Act relating to school athletics, recreation, athletic teams, and sports.\",\n",
    "        \"state\": \"AK\",\n",
    "        \"stateId\": 2,\n",
    "        \"status\": 1,\n",
    "        \"category\": \"Youth Athletics\",\n",
    "        \"billLink\": \"https://legiscan.com/AK/bill/HB27/2023\",\n",
    "        \"statusDate\": \"2023/01/19\"\n",
    "    },\n",
    "    {\n",
    "        \"billId\": \"HB1156\",\n",
    "        \"legiscanId\": \"1662211\",\n",
    "        \"title\": \"Concerning A Public School District Or Open-enrollment Public Charter School Policy Relating To A Public School Student's Sex.\",\n",
    "        \"description\": \"Concerning A Public School District Or Open-enrollment Public Charter School Policy Relating To A Public School Student's Sex.\",\n",
    "        \"state\": \"AR\",\n",
    "        \"stateId\": 4,\n",
    "        \"status\": 2,\n",
    "        \"category\": \"Public Facilities\",\n",
    "        \"billLink\": \"https://legiscan.com/AR/bill/HB1156/2023\",\n",
    "        \"statusDate\": \"2023/02/01\",\n",
    "        \"id\": 1\n",
    "    }\n",
    "    ...\n",
    "]\n",
    "```\n",
    "\n",
    "Let's make some observations based on the shape of these records:\n",
    "\n",
    "1. The `id` column is probably intended for internal use, as is the `stateId` (although they are probably just serial and alphabetical respectively).\n",
    "1. Each bill record includes a `title` and `description` to help us understand what the bill is about.\n",
    "1. We can construct a more familiar name for a proposed bill using `state` and `billId`, for example \"AR HB1156\". We will use this later.\n",
    "1. Each record has a `status` field whose interpretation is not self-documenting. This will probably merit more investigation.\n",
    "1. There is a date on each record. We can use these to build interactive / animated visualizations later.\n",
    "1. Each record has a field called `legiscanId`. [Legiscan](http://legiscan.com/about) is, apparently, \"the nation's first impartial real-time legislative tracking service designed for both public citizens and government affairs professionals\".\n",
    "1. Perhaps by investigating legiscan a little more we can unlock the meaning of those `legiscanId` fields.\n",
    "1. These bills have been categorized in some way. If we can rely on this categorization we can use it to learn more about patterns in the data."
   ]
  },
  {
   "cell_type": "markdown",
   "id": "af43c89c-d67e-438a-a476-811e0dc7ccce",
   "metadata": {},
   "source": [
    "## Data Visualization"
   ]
  },
  {
   "cell_type": "markdown",
   "id": "321a506b-af4b-4496-a31f-c954e1648334",
   "metadata": {},
   "source": [
    "Insert data visualization stuff here after I rework the ACLU visualizations"
   ]
  },
  {
   "cell_type": "markdown",
   "id": "9d1ca93e-9764-4573-9b7c-c71af57810e8",
   "metadata": {
    "tags": []
   },
   "source": [
    "## Downloading Bills"
   ]
  },
  {
   "cell_type": "markdown",
   "id": "e9b693f7-b90f-402a-8a7c-2e9efb3dbb89",
   "metadata": {
    "tags": []
   },
   "source": [
    "### About Legiscan\n",
    "\n",
    "It may be useful to download these pieces of legislation, either to archive them or in order to try to learn about their contents. While each record has a `billLink` field that can be used to view information about the bill on the Legiscan website, that won't let us do anything with them programatically. Still, if we paste one of those URLs into a browser, we can indeed see it on the Legiscan site:\n",
    "\n",
    "![Viewing a bill on legiscan](static/legiscan_bill.png)"
   ]
  },
  {
   "cell_type": "markdown",
   "id": "fb44ce4b-7b02-469d-8b45-bbee51899ea8",
   "metadata": {
    "tags": []
   },
   "source": [
    "### Scraping Directly from Legiscan\n",
    "\n",
    "My first attempt to archive these bills was simply to scrape the site. This did not work at all, probably because their site doesn't really want to be scraped. Many times the page came up blank (probably deliberately), which frustrated my scraping code (I lost several hours this way). Legiscan does, however, offer free (limited) access to their API, up to 30,000 API actions per month. "
   ]
  },
  {
   "cell_type": "markdown",
   "id": "469b2835-54f8-4425-be71-bb11c9eab4c3",
   "metadata": {},
   "source": [
    "### The Legiscan API\n",
    "\n",
    "I signed up for the website and obtained an API key, which I stored in an environment variable called `LEGISCAN_API_KEY`. We'll keep that handy for later. Let's have a look at the API documentation on Legiscan's site.\n",
    "\n",
    "![Legiscan API Methods](static/legiscan_api_2.png)\n",
    "\n",
    "Looking just at the list of example methods they provide, we have already learned a lot:\n",
    "\n",
    "1. All requests are made to https://api.legiscan.com/. This means that we are probably not dealing with a typical REST API.\n",
    "1. The API key is provided as a querystring parameter to the endpoint. This means that we are probably not using cookies or `Authorization:` headers.\n",
    "1. The name of the API method to be called is also a querystring parameter.\n",
    "1. Finally, all of the parameters for each method are provided as querystring parameters. This means that we don't need to bother assembling POST bodies with either JSON or form-url-encoded data to formulate our API calls.\n",
    "\n",
    "All in all this is a rather simple and unsophisticated API, but that works for our purposes. Since the number of queries we can make each month our limited, we'll want to do our best to conserve them. A good way to do this is by saving whatever we get back so that we can use it again later instead of asking for the same thing over and over."
   ]
  },
  {
   "cell_type": "markdown",
   "id": "aab05cf5-cc65-4f9e-b40d-ed9ffeb55562",
   "metadata": {},
   "source": [
    "### Our First API Query\n",
    "\n",
    "Let's try getting information from the Legiscan API about one of the bills. We already have its `legiscanId`, so we can try plugging that into one of the example methods."
   ]
  },
  {
   "cell_type": "code",
   "execution_count": 1,
   "id": "eb54bfc5-71be-4d7e-abe3-9173bec992e6",
   "metadata": {
    "tags": []
   },
   "outputs": [],
   "source": [
    "import os\n",
    "import requests\n",
    "\n",
    "API_KEY = os.environ.get('LEGISCAN_API_KEY')      # this is that API key from earlier. Keep yours secret\n",
    "BILL_ID = '1662211'                               # this is the legiscanId of a bill we are interested in\n",
    "API_OPERATION = 'getBill'                         # this is the name of the API method we are calling\n",
    "RESULT_FILENAME = 'tmp/bill_meta_AR_HB1166.json'  # we will save the results of our query here to use again\n",
    "\n",
    "# construct an API call using the parameters above\n",
    "assembled_url = f'https://api.legiscan.com/?key={API_KEY}&op={API_OPERATION}&id={BILL_ID}'\n",
    "\n",
    "response = requests.get(assembled_url)            # make the API request\n",
    "with open(RESULT_FILENAME, 'wb') as f:            # open a file to store the result in\n",
    "    f.write(response.content)                     # write the result of the API call into a file"
   ]
  },
  {
   "cell_type": "markdown",
   "id": "b7fefa1a-0bc3-479a-8e76-cc90179e08ab",
   "metadata": {},
   "source": [
    "### Examining the Result\n",
    "\n",
    "We should now have a file called `bill_meta_AR_HB1166.json` in our `tmp` directory! This contains the response of the Legicscan API to our request. As the extension indicates, this response is in a format called JSON. We can open this up and take a look at it. It's actually pretty long!"
   ]
  },
  {
   "cell_type": "code",
   "execution_count": 2,
   "id": "a7f6c1a3-9e28-4d86-8fb3-2c3b54af78e0",
   "metadata": {
    "tags": []
   },
   "outputs": [
    {
     "name": "stdout",
     "output_type": "stream",
     "text": [
      "dict_keys(['status', 'bill'])\n",
      "Status: OK\n",
      "dict_keys(['bill_id', 'change_hash', 'session_id', 'session', 'url', 'state_link', 'completed', 'status', 'status_date', 'progress', 'state', 'state_id', 'bill_number', 'bill_type', 'bill_type_id', 'body', 'body_id', 'current_body', 'current_body_id', 'title', 'description', 'pending_committee_id', 'committee', 'referrals', 'history', 'sponsors', 'sasts', 'subjects', 'texts', 'votes', 'amendments', 'supplements', 'calendar'])\n",
      "{'ballotpedia': 'Jack_Ladyman',\n",
      " 'bioguide_id': '',\n",
      " 'committee_id': 0,\n",
      " 'committee_sponsor': 0,\n",
      " 'district': 'HD-059',\n",
      " 'first_name': 'Jack',\n",
      " 'ftm_eid': 22027727,\n",
      " 'knowwho_pid': 489860,\n",
      " 'last_name': 'Ladyman',\n",
      " 'middle_name': '',\n",
      " 'name': 'Jack Ladyman',\n",
      " 'nickname': '',\n",
      " 'opensecrets_id': '',\n",
      " 'party': 'R',\n",
      " 'party_id': '2',\n",
      " 'people_id': 16335,\n",
      " 'person_hash': 'buv591zx',\n",
      " 'role': 'Rep',\n",
      " 'role_id': 1,\n",
      " 'sponsor_order': 6,\n",
      " 'sponsor_type_id': 2,\n",
      " 'state_federal': 0,\n",
      " 'state_id': 4,\n",
      " 'suffix': '',\n",
      " 'votesmart_id': 150259}\n"
     ]
    }
   ],
   "source": [
    "import json\n",
    "from pprint import pprint\n",
    "\n",
    "LOCAL_FILENAME = 'tmp/bill_meta_AR_HB1166.json'   # this is where we stored the results of the API call\n",
    "\n",
    "response = {}\n",
    "with open(LOCAL_FILENAME, 'rb') as f:             # open the file with the stored results\n",
    "    response = json.load(f)                       # parse that response with json.load\n",
    "\n",
    "print(response.keys())                            # JSON files are parsed into dictionaries\n",
    "print(f'Status: {response[\"status\"]}')            # the API indicates success/failure with this field\n",
    "\n",
    "bill = response['bill']                           # ...but what's in 'bill'?\n",
    "print(bill.keys())                                # the bill dictionary is the majority of the response\n",
    "pprint(bill['sponsors'][5])                       # there's even a lot of data on each sponsor of the bill"
   ]
  },
  {
   "cell_type": "markdown",
   "id": "9f08ad4c-7c75-4152-b112-111d8353772e",
   "metadata": {},
   "source": [
    "This is all very interesting, but we're no closer to downloading the actual contents of the bill. It's not even really apparent what to do next with all this information. Looking at the API documentation, we might be tempted to try the \n",
    "`getBillText` API method next. This is exactly what I tried at first! If we try that, it won't work right: we will get a completely different bill than the one we were asking about. WTF?\n",
    "\n",
    "The reason it doesn't work is that, although both methods take an `id` argument, they are not the same *kind* of `id`. Our `legiscanId` was good enough for `getBill`, but we actually need a *different* id in order to retrieve bill contents: a `doc_id`. Most bills will go through several revisions and amendments, and each of these has its own `doc_id`. After I looked for a while, I found that what we were looking for was in `'texts'`:"
   ]
  },
  {
   "cell_type": "code",
   "execution_count": 3,
   "id": "c9a00801-af72-4cee-9c5e-f01ecf5c2e30",
   "metadata": {
    "tags": []
   },
   "outputs": [
    {
     "data": {
      "text/plain": [
       "[{'doc_id': 2644026,\n",
       "  'date': '2023-01-17',\n",
       "  'type': 'Draft',\n",
       "  'type_id': 9,\n",
       "  'mime': 'application/pdf',\n",
       "  'mime_id': 2,\n",
       "  'url': 'https://legiscan.com/AR/text/HB1156/id/2644026',\n",
       "  'state_link': 'https://www.arkleg.state.ar.us/Bills/FTPDocument?path=%2FBills%2F2023R%2FPublic%2FHB1156.pdf',\n",
       "  'text_size': 241184,\n",
       "  'text_hash': '2cbb2202654be4f6fb9faa01e0dd4db2'},\n",
       " {'doc_id': 2660139,\n",
       "  'date': '2023-01-24',\n",
       "  'type': 'Draft',\n",
       "  'type_id': 9,\n",
       "  'mime': 'application/pdf',\n",
       "  'mime_id': 2,\n",
       "  'url': 'https://legiscan.com/AR/text/HB1156/id/2660139',\n",
       "  'state_link': 'https://www.arkleg.state.ar.us/Bills/FTPDocument?path=%2FBills%2F2023R%2FPublic%2FHB1156%2FHB1156012420230854.pdf',\n",
       "  'text_size': 257257,\n",
       "  'text_hash': '30741c56351fb0a638ed40e4037c3e76'},\n",
       " {'doc_id': 2668867,\n",
       "  'date': '2023-01-30',\n",
       "  'type': 'Draft',\n",
       "  'type_id': 9,\n",
       "  'mime': 'application/pdf',\n",
       "  'mime_id': 2,\n",
       "  'url': 'https://legiscan.com/AR/text/HB1156/id/2668867',\n",
       "  'state_link': 'https://www.arkleg.state.ar.us/Bills/FTPDocument?path=%2FBills%2F2023R%2FPublic%2FHB1156%2FHB1156013020230920.pdf',\n",
       "  'text_size': 319274,\n",
       "  'text_hash': 'e0dc0414c892e8eab5b0033f9ff35af4'},\n",
       " {'doc_id': 2734592,\n",
       "  'date': '2023-03-09',\n",
       "  'type': 'Draft',\n",
       "  'type_id': 9,\n",
       "  'mime': 'application/pdf',\n",
       "  'mime_id': 2,\n",
       "  'url': 'https://legiscan.com/AR/text/HB1156/id/2734592',\n",
       "  'state_link': 'https://www.arkleg.state.ar.us/Bills/FTPDocument?path=%2FBills%2F2023R%2FPublic%2FHB1156%2FHB1156030920231213.pdf',\n",
       "  'text_size': 320330,\n",
       "  'text_hash': '300328a3be612519e7ed4b5d295d7f33'}]"
      ]
     },
     "execution_count": 3,
     "metadata": {},
     "output_type": "execute_result"
    }
   ],
   "source": [
    "bill['texts']"
   ]
  },
  {
   "cell_type": "markdown",
   "id": "bdef81bf-5108-4ddb-ae00-0fdcd5525978",
   "metadata": {},
   "source": [
    "These records contain the `doc_id`s we were looking for! But how do we decide which one is the version we want? \n",
    "\n",
    "Let's take the most recent one, since each record has a `date`. We can sort `texts` array by the `date` field on each record, and then take the `doc_id` of the first item in the sorted list."
   ]
  },
  {
   "cell_type": "code",
   "execution_count": 4,
   "id": "d252f674-0452-459a-9126-6f86398becee",
   "metadata": {
    "tags": []
   },
   "outputs": [
    {
     "data": {
      "text/plain": [
       "2734592"
      ]
     },
     "execution_count": 4,
     "metadata": {},
     "output_type": "execute_result"
    }
   ],
   "source": [
    "texts = bill['texts']                             # let's work with the texts more directly\n",
    "sorted_texts = sorted(                            # we need to sort them\n",
    "    texts,                                        # this is the thing we're sorting\n",
    "    key=lambda x: x['date'],                      # they have a key called 'date', use that to sort them\n",
    "    reverse=True                                  # sort it in reverse order\n",
    ")\n",
    "doc_id = sorted_texts[0]['doc_id']                # take the doc_id from the first (newest) one!\n",
    "\n",
    "doc_id"
   ]
  },
  {
   "cell_type": "markdown",
   "id": "43711719-1d6b-4e72-8753-71b1b9db8f44",
   "metadata": {},
   "source": [
    "At last, we have a `doc_id` we can use to download the contents of this bill! We can assemble another API call similar to the last one."
   ]
  },
  {
   "cell_type": "code",
   "execution_count": 5,
   "id": "117d15b2-f44a-46ab-b359-f25d73594e74",
   "metadata": {
    "tags": []
   },
   "outputs": [],
   "source": [
    "import os\n",
    "import requests\n",
    "\n",
    "API_KEY = os.environ.get('LEGISCAN_API_KEY')      # it's the API key again!\n",
    "DOC_ID = '2734592'                                # this is the doc_id we obtained from the previous step\n",
    "API_OPERATION = 'getBillText'                     # this is the name of the API method we are calling\n",
    "RESULT_FILENAME = 'tmp/bill_raw_AR_HB1166.json'   # we will save the results of our query here to use again\n",
    "\n",
    "\n",
    "# construct an API call using the parameters above\n",
    "assembled_url = f'https://api.legiscan.com/?key={API_KEY}&op={API_OPERATION}&id={DOC_ID}'\n",
    "\n",
    "response = requests.get(assembled_url)            # Make the API request\n",
    "with open(RESULT_FILENAME, 'wb') as f:            # Open a file to store the result in\n",
    "    f.write(response.content)                     # Write the result of the API call into a file"
   ]
  },
  {
   "cell_type": "markdown",
   "id": "13c5811c-1066-499a-8b4a-5df61672005a",
   "metadata": {},
   "source": [
    "Okay, great! We've downloaded something... and it looks relatively big. As before, we'll load up the saved response in order to investigate it some more."
   ]
  },
  {
   "cell_type": "code",
   "execution_count": 6,
   "id": "77efa806-90fb-486b-9583-a56a5bd48a65",
   "metadata": {
    "tags": []
   },
   "outputs": [
    {
     "name": "stdout",
     "output_type": "stream",
     "text": [
      "dict_keys(['status', 'text'])\n"
     ]
    }
   ],
   "source": [
    "import json\n",
    "from pprint import pprint\n",
    "\n",
    "LOCAL_FILENAME = 'tmp/bill_raw_AR_HB1166.json'    # this is where we stored the results of the API call\n",
    "\n",
    "response = {}\n",
    "with open(LOCAL_FILENAME, 'rb') as f:             # open the file with the stored results\n",
    "    response = json.load(f)                       # parse that response with json.load\n",
    "\n",
    "print(response.keys())"
   ]
  },
  {
   "cell_type": "markdown",
   "id": "f5278f6d-9169-4670-a183-9c0a42e9fe2a",
   "metadata": {},
   "source": [
    "Note the familiar `status` field, along with something called `text`."
   ]
  },
  {
   "cell_type": "code",
   "execution_count": 7,
   "id": "99a24fc5-0e50-41d5-8323-b3f91ffb7254",
   "metadata": {
    "tags": []
   },
   "outputs": [
    {
     "data": {
      "text/plain": [
       "dict_keys(['doc_id', 'bill_id', 'date', 'type', 'type_id', 'mime', 'mime_id', 'text_size', 'text_hash', 'doc', 'alt_document', 'alt_mime', 'alt_mime_id', 'alt_text_size', 'alt_text_hash', 'alt_doc'])"
      ]
     },
     "execution_count": 7,
     "metadata": {},
     "output_type": "execute_result"
    }
   ],
   "source": [
    "text = response['text']\n",
    "text.keys()"
   ]
  },
  {
   "cell_type": "markdown",
   "id": "df3e85d3-d754-4dce-a882-51a76151625d",
   "metadata": {},
   "source": [
    "What's all this? Well, we have a `doc` field, maybe that's got what we're looking for?"
   ]
  },
  {
   "cell_type": "code",
   "execution_count": 8,
   "id": "9b6f46ec-e5a8-45fa-abf5-20372b7fcd58",
   "metadata": {
    "tags": []
   },
   "outputs": [
    {
     "data": {
      "text/plain": [
       "'JVBERi0xLjQNCiW1tbW1DQoxIDAgb2JqDQo8PC9UeXBlL0NhdGFsb2cvUGFnZXMgMiAwIFIvTGFuZyhlbi1VUykgL1N0cnVjdFRyZWVSb290IDM4IDAgUi9PdXRsaW5lcyAzMCAwIFIvTWFya0luZm88PC9NYXJrZWQgdHJ1ZT4+L091dHB1dEludGVudHNbPDwvVHlwZS9PdXRwdXRJbnRlbnQvUy9HVFNfUERGQTEvT3V0cHV0Q29uZG'"
      ]
     },
     "execution_count": 8,
     "metadata": {},
     "output_type": "execute_result"
    }
   ],
   "source": [
    "text['doc'][0:250]"
   ]
  },
  {
   "cell_type": "markdown",
   "id": "7387e9c9-5ae3-4905-ae0e-f045ad2e52c7",
   "metadata": {},
   "source": [
    "Okay, that doesn't look very friendly. It actually looks an awful lot like something that has been encoded using base64. But what kind of file is it? We'll need to give it a meaningful filename after we extract it. Some of the fields DO specify a MIME type, which is similar to how HTTP indicates what kind of content is in a response."
   ]
  },
  {
   "cell_type": "code",
   "execution_count": 9,
   "id": "dcce3354-b341-4748-82d2-e021c78f6de9",
   "metadata": {
    "tags": []
   },
   "outputs": [
    {
     "data": {
      "text/plain": [
       "'application/pdf'"
      ]
     },
     "execution_count": 9,
     "metadata": {},
     "output_type": "execute_result"
    }
   ],
   "source": [
    "text['mime']"
   ]
  },
  {
   "cell_type": "markdown",
   "id": "736cebbe-506f-431e-8b4a-47d85a606795",
   "metadata": {},
   "source": [
    "Looks like what we've got on our hands is a PDF. Again, it's encoded in base 64, which is why we were able to get a binary file format like PDF in a JSON response. Our job is to unpack it. We can think of the JSON object it arrived in as a sort of text-only zip file."
   ]
  },
  {
   "cell_type": "code",
   "execution_count": 10,
   "id": "dfb4667e-1295-4adb-a8fe-378f914ff395",
   "metadata": {
    "tags": []
   },
   "outputs": [],
   "source": [
    "import base64                                     # python library for working with base 64 data\n",
    "\n",
    "UNPACK_FILENAME = 'tmp/AR_HB1166.pdf'             # this will be a working pdf when we're done!\n",
    "\n",
    "doc = text['doc']                                 # remember, doc contains a base64 encoded pdf\n",
    "with open(UNPACK_FILENAME, 'wb') as f:            # create the PDF file\n",
    "    f.write(base64.b64decode(doc))                # decode the base64 encoded data and write it to the file"
   ]
  },
  {
   "cell_type": "markdown",
   "id": "5db9efb1-ffdf-4346-8325-6b281692cd38",
   "metadata": {},
   "source": [
    "Well, that code didn't crash. Let's open up the PDF and see what we've got! Drumroll please...\n",
    "\n",
    "![A hateful bill](static/downloaded_bill.png)"
   ]
  },
  {
   "cell_type": "code",
   "execution_count": null,
   "id": "1b903650-da3a-4667-8c17-30407e9a1027",
   "metadata": {},
   "outputs": [],
   "source": []
  },
  {
   "cell_type": "code",
   "execution_count": null,
   "id": "2a2e0535-0c5d-481a-bb49-8b53407e53bc",
   "metadata": {},
   "outputs": [],
   "source": []
  }
 ],
 "metadata": {
  "kernelspec": {
   "display_name": "Python 3 (ipykernel)",
   "language": "python",
   "name": "python3"
  },
  "language_info": {
   "codemirror_mode": {
    "name": "ipython",
    "version": 3
   },
   "file_extension": ".py",
   "mimetype": "text/x-python",
   "name": "python",
   "nbconvert_exporter": "python",
   "pygments_lexer": "ipython3",
   "version": "3.9.10"
  }
 },
 "nbformat": 4,
 "nbformat_minor": 5
}
