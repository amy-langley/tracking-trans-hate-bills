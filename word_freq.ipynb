{
 "cells": [
  {
   "cell_type": "markdown",
   "id": "0c6ce8e8-a5c0-484a-8660-8b247eb2cc64",
   "metadata": {},
   "source": [
    "# Resources:\n",
    "\n",
    "* [extract clean text from html](https://stackoverflow.com/questions/328356/extracting-text-from-html-file-using-python)\n",
    "* [extract clean text from pdf](https://www.geeksforgeeks.org/extract-text-from-pdf-file-using-python/)\n",
    "* [word cloud tutorial](https://towardsdatascience.com/simple-wordcloud-in-python-2ae54a9f58e5)"
   ]
  },
  {
   "cell_type": "code",
   "execution_count": null,
   "id": "97521a8a-f316-4a1d-8434-1d76a22c794e",
   "metadata": {},
   "outputs": [],
   "source": []
  }
 ],
 "metadata": {
  "kernelspec": {
   "display_name": "Python 3 (ipykernel)",
   "language": "python",
   "name": "python3"
  },
  "language_info": {
   "codemirror_mode": {
    "name": "ipython",
    "version": 3
   },
   "file_extension": ".py",
   "mimetype": "text/x-python",
   "name": "python",
   "nbconvert_exporter": "python",
   "pygments_lexer": "ipython3",
   "version": "3.9.10"
  }
 },
 "nbformat": 4,
 "nbformat_minor": 5
}
