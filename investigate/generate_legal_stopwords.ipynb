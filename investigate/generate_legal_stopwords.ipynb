{
 "cells": [
  {
   "cell_type": "code",
   "execution_count": 3,
   "id": "e1de4016-8c25-414f-ba65-bb6c7fc99ef5",
   "metadata": {
    "tags": []
   },
   "outputs": [
    {
     "name": "stdout",
     "output_type": "stream",
     "text": [
      "['legislative', 'assembly', 'house', 'bill', 'by', 'representative', 'the', 'following', 'be', 'not', 'of', 'and', 'part', 'subject', 'to', 'it', 'an', 'tax', 'on', 'take', 'effect', 'day', 'follow', 'for', 'act', 'relate', 'amend', 'or', 'effective', 'date', 'provide', 'revenue', 'that', 'require', 'enact', 'state', 'section', 'chapter', 'law', 'read', 'year', 'january', 'board', 'upon', 'all', 'shall', 'transfer', 'in', 'account', 'use', 'resource', 'describe', 'establish', 'under', 'except', 'subsection', 'this', 'payment', 'benefit', 'amount', 'purpose', 'percent', 'total', 'approve', 'include', 'fiscal', 'pursuant', 'make', 'new', 'hb', 'education', 'at', 'each', 'any', 'which', 'may', 'general', 'if', 'department', 'do', 'adopt', 'will', 'first', 'during', 'from', 'than', 'rate', 'request', 'officer', 'with', 'paragraph', 'after', 'no', 'right', 'legislature', 'health', 'safety', 'code', 'sec', 'medical', 'service', 'write', 'must', 'have', 'need', 'within', 'care', 'without', 'least', 'one', 'individual', 'time', 'period', 'united', 'but', 'other', 'accordance', 'federal', 'define', 'who', 'through', 'family', 'permit', 'review', 'receive', 'condition', 'information', 'necessary', 'issue', 'project', 'record', 'authorize', 'court', 'appropriate', 'plan', 'requirement', 'commission', 'rule', 'public', 'area', 'employee', 'community', 'notice', 'apply', 'only', 'before', 'parent', 'copy', 'two', 'term', 'mean', 'hearing', 'place', 'member', 'their', 'violation', 'enforcement', 'order', 'pay', 'file', 'case', 'government', 'commissioner', 'facility', 'charge', 'name', 'otherwise', 'license', 'agency', 'title', 'provision', 'standard', 'child', 'article', 'senate', 'month', 'more', 'support', 'system', 'organization', 'program', 'office', 'such', 'statute', 'into', 'those', 'person', 'work', 'contract', 'less', 'authority', 'control', 'fund', 'hold', 'money', 'activity', 'conduct', 'his', 'financial', 'credit', 'when', 'limited', 'ii', 'agreement', 'limit', 'interest', 'regulation', 'entity', 'sale', 'business', 'income', 'owner', 'student', 'property', 'determine', 'committee', 'election', 'duty', 'report', 'subdivision', 'grant', 'eligible', 'base', 'unless', 'same', 'prior', 'vehicle', 'county', 'water', 'submit', 'meet', 'application', 'district', 'division', 'special', 'school', 'fee', 'number', 'local', 'building', 'cost', 'action', 'july', 'liability', 'company', 'home', 'director', 'secretary', 'high', 'provider', 'construction', 'party', 'wildlife', 'appropriation', 'land', 'future', 'expenditures', 'certificate', 'enrol', 'biennia', 'reappropriation', 'account-state']\n"
     ]
    }
   ],
   "source": [
    "import json\n",
    "\n",
    "from lib.tasks import prepare_legal_stopwords, tokenize_corpus\n",
    "from lib.util import load_json, write_json\n",
    "\n",
    "\n",
    "WORK_DIR = '../tmp/neutral_corpus/bills/*'\n",
    "TOKENS_FILE = '../tmp/neutral_corpus/tokens.json'\n",
    "STOPWORDS_FILE = '../artifacts/legal_stopwords.json'\n",
    "\n",
    "\n",
    "canonicalized_tokens = tokenize_corpus(WORK_DIR)\n",
    "write_json(canonicalized_tokens, TOKENS_FILE)\n",
    "# canonicalized_tokens = load_json(TOKENS_FILE)\n",
    "\n",
    "print(prepare_legal_stopwords(TOKENS_FILE, STOPWORDS_FILE, 900))"
   ]
  }
 ],
 "metadata": {
  "kernelspec": {
   "display_name": "Python 3 (ipykernel)",
   "language": "python",
   "name": "python3"
  },
  "language_info": {
   "codemirror_mode": {
    "name": "ipython",
    "version": 3
   },
   "file_extension": ".py",
   "mimetype": "text/x-python",
   "name": "python",
   "nbconvert_exporter": "python",
   "pygments_lexer": "ipython3",
   "version": "3.9.10"
  }
 },
 "nbformat": 4,
 "nbformat_minor": 5
}
