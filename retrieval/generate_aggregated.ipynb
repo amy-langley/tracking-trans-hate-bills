{
 "cells": [
  {
   "cell_type": "code",
   "execution_count": 2,
   "id": "a2068faa-aa21-410d-be76-1b9ce9ffb4e2",
   "metadata": {
    "tags": []
   },
   "outputs": [
    {
     "name": "stdout",
     "output_type": "stream",
     "text": [
      "Summarized 481 items (0.10s elapsed)\n"
     ]
    }
   ],
   "source": [
    "from enum import IntEnum\n",
    "import glob\n",
    "import json\n",
    "import time\n",
    "\n",
    "class LegiscanStatus(IntEnum):\n",
    "    NA = 0\n",
    "    Introduced = 1\n",
    "    Engrossed = 2\n",
    "    Enrolled = 3\n",
    "    Passed = 4\n",
    "    Vetoed = 5\n",
    "    Failed = 6\n",
    "    Override = 7\n",
    "    Chaptered = 8\n",
    "    Refer = 9\n",
    "    Report_Pass = 10\n",
    "    Report_DNP = 11\n",
    "    Draft = 12\n",
    "\n",
    "def get_meta(meta_name):\n",
    "    with open(meta_name, 'r') as f:\n",
    "        return json.load(f)\n",
    "    \n",
    "def summarize(meta):\n",
    "    bill = meta['bill']\n",
    "    \n",
    "    return {\n",
    "        'state': bill['state'],\n",
    "        'bill_id': bill['bill_number'],\n",
    "        'status_date': bill['status_date'],\n",
    "        'legiscan_bill_id': str(bill['bill_id']),\n",
    "        'status': str(LegiscanStatus(bill['status'])).split('.')[1],\n",
    "        'sponsors': [sponsor['name'] for sponsor in bill['sponsors']],\n",
    "        'title': bill['title'],\n",
    "        'description': bill['description'],\n",
    "        'doc_id': str(sorted(\n",
    "            bill['texts'], \n",
    "            key=lambda t: t['date'], \n",
    "            reverse=True\n",
    "        )[0]['doc_id']) if bill['texts'] else None,\n",
    "    }\n",
    "\n",
    "start = time.time()\n",
    "\n",
    "summaries = [\n",
    "    summarize(get_meta(meta_name)) \n",
    "    for meta_name\n",
    "    in glob.glob('../tmp/*meta*.json')\n",
    "]\n",
    "\n",
    "with open('../artifacts/aggregate.json', 'w') as f:\n",
    "    json.dump(summaries, f, indent=2)\n",
    "    \n",
    "end = time.time()\n",
    "\n",
    "print(f'Summarized {len(summaries)} items ({(end-start):.2f}s elapsed)')"
   ]
  }
 ],
 "metadata": {
  "kernelspec": {
   "display_name": "Python 3 (ipykernel)",
   "language": "python",
   "name": "python3"
  },
  "language_info": {
   "codemirror_mode": {
    "name": "ipython",
    "version": 3
   },
   "file_extension": ".py",
   "mimetype": "text/x-python",
   "name": "python",
   "nbconvert_exporter": "python",
   "pygments_lexer": "ipython3",
   "version": "3.9.10"
  }
 },
 "nbformat": 4,
 "nbformat_minor": 5
}
