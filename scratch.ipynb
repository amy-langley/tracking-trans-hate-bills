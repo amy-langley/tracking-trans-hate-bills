{
 "cells": [
  {
   "cell_type": "code",
   "execution_count": 11,
   "id": "afec9fc5-e6b0-4f04-a00e-097f4097fbdd",
   "metadata": {
    "tags": []
   },
   "outputs": [
    {
     "data": {
      "text/plain": [
       "'https://www.house.mo.gov/billtracking/bills231/hlrbillspdf/2598H.01I.pdf'"
      ]
     },
     "execution_count": 11,
     "metadata": {},
     "output_type": "execute_result"
    }
   ],
   "source": [
    "from bs4 import BeautifulSoup\n",
    "import requests\n",
    "import urllib.parse\n",
    "\n",
    "host = 'https://www.house.mo.gov'\n",
    "# url = f'{host}/BillContent.aspx?bill=HB1258&year=2023&code=R'\n",
    "url = urllib.parse.urljoin(host, 'BillContent.aspx?bill=HB1258&year=2023&code=R')\n",
    "page = requests.get(url)\n",
    "\n",
    "# print(page.text)\n",
    "soup = BeautifulSoup(page.content)\n",
    "urllib.parse.urljoin(\n",
    "    host, \n",
    "    soup.find_all(class_='textType')[0].find('a')['href'],\n",
    ")"
   ]
  }
 ],
 "metadata": {
  "kernelspec": {
   "display_name": "Python 3 (ipykernel)",
   "language": "python",
   "name": "python3"
  },
  "language_info": {
   "codemirror_mode": {
    "name": "ipython",
    "version": 3
   },
   "file_extension": ".py",
   "mimetype": "text/x-python",
   "name": "python",
   "nbconvert_exporter": "python",
   "pygments_lexer": "ipython3",
   "version": "3.9.10"
  }
 },
 "nbformat": 4,
 "nbformat_minor": 5
}
