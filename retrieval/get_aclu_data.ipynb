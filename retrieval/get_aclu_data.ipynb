{
 "cells": [
  {
   "cell_type": "code",
   "execution_count": 1,
   "id": "648447d6-afc8-44ae-adf1-99565bbd1fb1",
   "metadata": {
    "tags": []
   },
   "outputs": [
    {
     "name": "stdout",
     "output_type": "stream",
     "text": [
      "Data \"aclu.json\" refreshed with 426 items (0.18s elapsed)\n"
     ]
    }
   ],
   "source": [
    "import time\n",
    "\n",
    "from lib.aclu import retrieve_aclu_data\n",
    "\n",
    "OUTPUT_PATH = '../datasets/aclu.json'\n",
    "\n",
    "start = time.time()\n",
    "\n",
    "contents = retrieve_aclu_data(OUTPUT_PATH)\n",
    "\n",
    "end = time.time()\n",
    "\n",
    "print(f'Data \"aclu.json\" refreshed with {len(contents)} items ({(end-start):.2f}s elapsed)')"
   ]
  }
 ],
 "metadata": {
  "kernelspec": {
   "display_name": "Python 3 (ipykernel)",
   "language": "python",
   "name": "python3"
  },
  "language_info": {
   "codemirror_mode": {
    "name": "ipython",
    "version": 3
   },
   "file_extension": ".py",
   "mimetype": "text/x-python",
   "name": "python",
   "nbconvert_exporter": "python",
   "pygments_lexer": "ipython3",
   "version": "3.9.10"
  }
 },
 "nbformat": 4,
 "nbformat_minor": 5
}
