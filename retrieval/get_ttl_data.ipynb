{
 "cells": [
  {
   "cell_type": "code",
   "execution_count": 1,
   "id": "648447d6-afc8-44ae-adf1-99565bbd1fb1",
   "metadata": {
    "tags": []
   },
   "outputs": [
    {
     "name": "stdout",
     "output_type": "stream",
     "text": [
      "Data \"tracktranslegislation.json\" refreshed with 378 items (1.63s elapsed)\n"
     ]
    }
   ],
   "source": [
    "from bs4 import BeautifulSoup\n",
    "from itertools import chain\n",
    "import json\n",
    "from pyjsparser import parse\n",
    "import requests\n",
    "import time\n",
    "from urllib.parse import urljoin\n",
    "\n",
    "URL = 'https://tracktranslegislation.com'\n",
    "OUTPUT_PATH = '../datasets/tracktranslegislation.json'\n",
    "\n",
    "def find_in_graph(subgraph):\n",
    "    results = []\n",
    "    items = subgraph.values() if isinstance(subgraph, dict) else subgraph\n",
    "    local_results = (item for item in items if isinstance(item, str) and len(item) > 10000)\n",
    "    return (chain.from_iterable([local_results, *(find_in_graph(item) for item in items if isinstance(item, dict) or isinstance(item,list))]))\n",
    "\n",
    "start = time.time()\n",
    "page = requests.get(URL)\n",
    "\n",
    "soup = BeautifulSoup(page.content, \"html.parser\")\n",
    "\n",
    "script_tags = soup.find_all('script')\n",
    "sources = [source_tag.attrs['src'] for source_tag in soup.find_all('script') if source_tag.has_attr('src')]\n",
    "quarry = urljoin(URL, next(source for source in sources if 'chunks/70-' in source))\n",
    "\n",
    "script_contents = requests.get(quarry).text\n",
    "\n",
    "parsed_script = parse(script_contents)\n",
    "candidates = find_in_graph(parsed_script)\n",
    "jsonstr = next(candidates)\n",
    "\n",
    "parsed_data = json.loads(jsonstr)\n",
    "\n",
    "with open(OUTPUT_PATH, 'w') as outfile:\n",
    "    json.dump(parsed_data, outfile, indent=2)\n",
    "\n",
    "end = time.time()\n",
    "\n",
    "print(f'Data \"tracktranslegislation.json\" refreshed with {len(parsed_data)} items ({(end-start):.2f}s elapsed)')"
   ]
  }
 ],
 "metadata": {
  "kernelspec": {
   "display_name": "Python 3 (ipykernel)",
   "language": "python",
   "name": "python3"
  },
  "language_info": {
   "codemirror_mode": {
    "name": "ipython",
    "version": 3
   },
   "file_extension": ".py",
   "mimetype": "text/x-python",
   "name": "python",
   "nbconvert_exporter": "python",
   "pygments_lexer": "ipython3",
   "version": "3.9.10"
  }
 },
 "nbformat": 4,
 "nbformat_minor": 5
}
