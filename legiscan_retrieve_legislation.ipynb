{
 "cells": [
  {
   "cell_type": "code",
   "execution_count": 1,
   "id": "3cedef8e-05b1-4fd9-91ce-cdb50f951387",
   "metadata": {
    "tags": []
   },
   "outputs": [],
   "source": [
    "import base64\n",
    "import json\n",
    "from legiscan import legiscan_api\n",
    "import os\n",
    "import pandas as pd\n",
    "from pprint import pprint\n",
    "import requests\n",
    "\n",
    "def get_bill_contents_filename(row, extension):\n",
    "    state = row['state']\n",
    "    bill_id = '_'.join(row['billId'].split(' '))\n",
    "    return f'bills/{state}_{bill_id}.{extension}'\n",
    "\n",
    "def get_bill_text_response_filename(row):\n",
    "    state = row['state']\n",
    "    bill_id = '_'.join(row['billId'].split(' '))\n",
    "    return f'tmp/bill_text_response_{state}_{bill_id}.json'\n",
    "\n",
    "def get_bill_meta_filename(row):\n",
    "    state = row['state']\n",
    "    bill_id = '_'.join(row['billId'].split(' '))\n",
    "    return f'tmp/bill_meta_{state}_{bill_id}.json'\n",
    "\n",
    "@legiscan_api\n",
    "def get_bill_meta(row, api_key: str):\n",
    "    local_filename = get_bill_meta_filename(row)\n",
    "    legiscan_bill_id = row['legiscanId']\n",
    "\n",
    "    if os.path.exists(local_filename):\n",
    "        #print(f'skipping {local_filename}, exists')\n",
    "        return local_filename\n",
    "\n",
    "    assembled_url = f'https://api.legiscan.com/?key={api_key}&op=getBill&id={legiscan_bill_id}'\n",
    "    resp = requests.get(assembled_url)\n",
    "\n",
    "    if not resp.ok:\n",
    "        print(f'Error {resp.status_code} downloading {local_filename}')\n",
    "        return None\n",
    "    \n",
    "    parsed = json.loads(resp.text)\n",
    "    if parsed['status'].upper() == 'ERROR':\n",
    "        print(f'Error {parsed[\"alert\"][\"message\"]} downloading {local_filename}')\n",
    "        return None\n",
    "    \n",
    "    with open(local_filename, 'wb') as f:\n",
    "        f.write(resp.content)\n",
    "    \n",
    "    print(f'got {local_filename}')\n",
    "    return local_filename\n",
    "\n",
    "@legiscan_api\n",
    "def get_bill_text(row, bill_meta_path: str, api_key: str):\n",
    "    local_filename = get_bill_text_response_filename(row)\n",
    "\n",
    "    if not bill_meta_path:\n",
    "        print(f'Missing meta data {get_bill_meta_filename(row)}')\n",
    "        return None\n",
    "\n",
    "    meta = None\n",
    "    with open(bill_meta_path, 'r') as f:\n",
    "        meta = json.load(f)\n",
    "\n",
    "    texts = meta['bill']['texts']\n",
    "    sorted_texts = sorted(texts, key=lambda x: x['date'], reverse=True)\n",
    "    \n",
    "    if len(sorted_texts) < 1:\n",
    "        print(f'No bill texts available yet for {bill_meta_path}')\n",
    "        return None\n",
    "    \n",
    "    doc_id = sorted_texts[0]['doc_id']\n",
    "\n",
    "    if os.path.exists(local_filename):\n",
    "        # print(f'skipping {local_filename}, exists')\n",
    "        return local_filename\n",
    "\n",
    "    assembled_url = f'https://api.legiscan.com/?key={api_key}&op=getBillText&id={doc_id}'\n",
    "    resp = requests.get(assembled_url)\n",
    "\n",
    "    if not resp.ok:\n",
    "        print(f'Error {resp.status_code} downloading {local_filename}')\n",
    "        return None\n",
    "    \n",
    "    parsed = json.loads(resp.text)\n",
    "    if parsed['status'].upper() == 'ERROR':\n",
    "        print(f'Error {parsed[\"alert\"][\"message\"]} downloading {local_filename}')\n",
    "        return None\n",
    "    \n",
    "    with open(local_filename, 'wb') as f:\n",
    "        f.write(resp.content)\n",
    "    \n",
    "    print(f'got {local_filename}')\n",
    "    return local_filename\n",
    "\n",
    "def extract_bill_contents(row, response_path: str):\n",
    "    result = None\n",
    "    \n",
    "    if not response_path:\n",
    "        print(f'Missing response data {get_bill_text_response_filename(row)}')\n",
    "        return None\n",
    "    \n",
    "    with open(response_path, 'r') as f:\n",
    "        result = json.load(f)['text']\n",
    "\n",
    "    doc = result['doc']\n",
    "    extension = result['mime'].split('/')[-1]\n",
    "    local_filename = get_bill_contents_filename(row, extension)\n",
    "\n",
    "    with open(local_filename, 'wb') as f:\n",
    "        f.write(base64.b64decode(doc))\n",
    "    \n",
    "    #print(f'Created {local_filename}')\n",
    "    return local_filename\n"
   ]
  },
  {
   "cell_type": "code",
   "execution_count": 2,
   "id": "a07a7490-b0ef-4829-bd0c-2f2a6e7b3c3f",
   "metadata": {
    "tags": []
   },
   "outputs": [
    {
     "name": "stdout",
     "output_type": "stream",
     "text": [
      "No bill texts available yet for tmp/bill_meta_SC_S0585.json\n",
      "Missing response data tmp/bill_text_response_SC_S0585.json\n"
     ]
    },
    {
     "data": {
      "text/plain": [
       "357"
      ]
     },
     "execution_count": 2,
     "metadata": {},
     "output_type": "execute_result"
    }
   ],
   "source": [
    "raw = pd.read_json('tracktranslegislation.json')\n",
    "# sample = raw.sample(n=15, random_state=1234)\n",
    "sample = raw.copy()\n",
    "\n",
    "metas = [(row, get_bill_meta(row)) for idx, row in sample.iterrows()]\n",
    "responses = [(meta[0], get_bill_text(*meta)) for meta in metas]\n",
    "extracts = [extract_bill_contents(*response) for response in responses]\n",
    "len(extracts)"
   ]
  }
 ],
 "metadata": {
  "kernelspec": {
   "display_name": "Python 3 (ipykernel)",
   "language": "python",
   "name": "python3"
  },
  "language_info": {
   "codemirror_mode": {
    "name": "ipython",
    "version": 3
   },
   "file_extension": ".py",
   "mimetype": "text/x-python",
   "name": "python",
   "nbconvert_exporter": "python",
   "pygments_lexer": "ipython3",
   "version": "3.9.10"
  }
 },
 "nbformat": 4,
 "nbformat_minor": 5
}
