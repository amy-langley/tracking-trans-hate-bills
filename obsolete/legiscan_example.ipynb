{
 "cells": [
  {
   "cell_type": "code",
   "execution_count": 1,
   "id": "4752c9aa-914f-4f04-a9ca-7f2a928c6e1b",
   "metadata": {
    "tags": []
   },
   "outputs": [
    {
     "name": "stdout",
     "output_type": "stream",
     "text": [
      "done\n"
     ]
    }
   ],
   "source": [
    "from legiscan import legiscan_auth\n",
    "from requests import Session\n",
    "\n",
    "@legiscan_auth\n",
    "def get_legislation_summary(url: str, output_filename: str, session: Session):\n",
    "    r = session.get(url)\n",
    "    \n",
    "    if r.ok:\n",
    "        with open(output_filename, 'wb') as f:\n",
    "            f.write(r.content)\n",
    "        print('done')\n",
    "    else:\n",
    "        print(r.status_code)\n",
    "\n",
    "get_legislation_summary(\n",
    "    'https://legiscan.com/gaits/datasets/2014/json/AL_2023-2023_Regular_Session_JSON_20230227_22a6d74a45d9dbc60a81c2954719eb49.zip',\n",
    "    'tmp/AL_total.zip',\n",
    ")"
   ]
  }
 ],
 "metadata": {
  "kernelspec": {
   "display_name": "Python 3 (ipykernel)",
   "language": "python",
   "name": "python3"
  },
  "language_info": {
   "codemirror_mode": {
    "name": "ipython",
    "version": 3
   },
   "file_extension": ".py",
   "mimetype": "text/x-python",
   "name": "python",
   "nbconvert_exporter": "python",
   "pygments_lexer": "ipython3",
   "version": "3.9.10"
  }
 },
 "nbformat": 4,
 "nbformat_minor": 5
}
