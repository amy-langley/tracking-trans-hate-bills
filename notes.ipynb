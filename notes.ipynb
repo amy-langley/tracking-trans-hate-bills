{
 "cells": [
  {
   "cell_type": "markdown",
   "id": "0b61c7cc-6c1b-47af-8141-10ebf70cfae5",
   "metadata": {},
   "source": [
    "# Resources:\n",
    "$ \\varphi + \\Sigma + \\sum^{\\inf}_{i=\\pi}2$\n",
    "* [extract clean text from html](https://stackoverflow.com/questions/328356/extracting-text-from-html-file-using-python)\n",
    "* [extract clean text from pdf](https://www.geeksforgeeks.org/extract-text-from-pdf-file-using-python/)\n",
    "* [word cloud tutorial](https://towardsdatascience.com/simple-wordcloud-in-python-2ae54a9f58e5)\n",
    "* [more choropleth stuff](https://towardsdatascience.com/simplest-way-of-creating-a-choropleth-map-by-u-s-states-in-python-f359ada7735e)\n",
    "* [another source of data, openstates](https://openstates.org/)\n",
    "* [graphs of bill sponsors](https://blog.jupyter.org/interactive-graph-visualization-in-jupyter-with-ipycytoscape-a8828a54ab63)\n",
    "* [stemming of source text](https://www.geeksforgeeks.org/python-stemming-words-with-nltk/)\n",
    "* [wordcloud api ref](https://amueller.github.io/word_cloud/generated/wordcloud.WordCloud.html)\n",
    "* [legiscan api home](https://legiscan.com/legiscan)\n",
    "* [notes on colormaps](https://matplotlib.org/stable/tutorials/colors/colormaps.html)\n",
    "* [choropleth maps without plotly](https://towardsdatascience.com/a-beginners-guide-to-create-a-cloropleth-map-in-python-using-geopandas-and-matplotlib-9cc4175ab630)\n",
    "* [choropleth with pie](https://github.com/vinceniko/choropie)\n",
    "\n",
    "Other bill trackers:\n",
    "\n",
    "* https://www.equalitytexas.org/legislature/legislative-bill-tracker-2023/?fbclid=IwAR1E4_N5XrtSbOwMjCBvvDqskEMDbbIY_9SsQiMsKXbLiVPw2IIU3rR2hyw\n",
    "* https://www.equalityfederation.org/tracker/cumulative-anti-transgender\n",
    "* https://oneiowaaction.org/anti-lgbtq-bills-2023/?fbclid=IwAR3j5nFadK_gvXNaU4t4Jh30X5P3Dv8NqUzp_U2ObqSGo2uE6VZDnrD3pdE\n",
    "\n",
    "Other anti-trans docs:\n",
    "* https://maia.crimew.gay/posts/the-emails/"
   ]
  },
  {
   "cell_type": "markdown",
   "id": "b6513d90-c691-4341-b465-c57b98c884ba",
   "metadata": {},
   "source": [
    "# Items to Explore\n",
    "\n",
    "- [x] separate generated resolve map from resolve hints\n",
    "- [ ] handle more than first 50 search results from legiscan (paging) (IA HF 9) (ID HB 63)\n",
    "- [ ]  sometimes things resolve in search to things that they don't resolve to in synonym (RI HB 5688)\n",
    "- [x] download legislation from resolver map directly\n",
    "- [ ] pie charts on choro plot to show what each state is upset about\n",
    "- [ ] estimate underreporting of national orgs by getting state org data\n",
    "- [x] automate retrieval of ttl data\n",
    "- [ ] investigate openstates integration\n",
    "- [ ] graph bill sponsors\n",
    "- [ ] text analysis of emails from trans hate groups\n",
    "- [ ] better text analysis of bills using neutral corpus for contrast\n",
    "- [ ] text analysis of recurring phrases across bills\n",
    "- [ ] text analysis of phrases borrowed from emails into bills\n",
    "- [ ] attempt to collect data from past years and compare trends\n",
    "- [ ] correlation between pornhub data and anti-trans bills per state\n",
    "- [ ] import data from more state-wide sources"
   ]
  },
  {
   "cell_type": "markdown",
   "id": "92ab7eab-411a-44d2-b344-eae70f36f7d6",
   "metadata": {},
   "source": [
    "# Per-State Resources (via JP)\n",
    "* IA: https://oneiowaaction.org/anti-lgbtq-bills-2023/\n",
    "* AL: https://www.aclualabama.org/en/2023lege\n",
    "* AK: https://www.governing.com/now/alaska-parental-rights-bill-is-thin-veil-against-lgbtq-community\n",
    "* AZ: https://www.phoenixnewtimes.com/news/arizona-lawmakers-attack-pronouns-drag-shows-lgbtq-residents-15358951\n",
    "* AR: https://arkansasadvocate.com/2023/02/01/two-lgbtq-specific-bills-move-forward-in-arkansas-legislature/\n",
    "* CA: https://www.eqca.org/legislation/\n",
    "* CO: https://one-colorado.org/new/anti-transgender-legislation-introduced-in-colorado/\n",
    "* FL: https://xtramagazine.com/power/politics/florida-dont-say-gay-bills-247249\n",
    "* FL: https://www.flsenate.gov/Session/Bill/2023/254/BillText/Filed/PDF?fbclid=IwAR3JiQMcMqad_IM9hJPPiXdMsVf316S7j4XNddyh1NfvX_YNbX3jCeEtKp8\n",
    "* GA: https://www.acluga.org/en/news/lawmakers-introducing-slew-bills-are-harmful-lgbtq-youth\n",
    "* ID: https://www.acluidaho.org/en/legislation\n",
    "* IN: https://www.wfyi.org/news/articles/indiana-lawmakers-file-record-number-of-anti-lgbtq-bills-tripling-previous-years\n",
    "* IN: https://www.wfyi.org/news/articles/what-anti-lgbtq-bills-are-moving-forward-at-the-midpoint-of-indianas-legislative-session\n",
    "* KS: https://www.aclukansas.org/en/bill-tracker-2023\n",
    "* KS: https://kansasreflector.com/2023/02/02/anti-lgbtq-bills-introduced-in-kansas-legislature-are-political-bullying-tactic-activists-say/\n",
    "* KY: https://archive.kftc.org/bill-tracker\n",
    "* KY: https://www.aclu-ky.org/en/legislation\n",
    "* MS: https://www.aclu-ms.org/en/legislation\n",
    "* MS: https://mississippitoday.org/2023/01/31/anti-lgtbq-bills-mississippi\n",
    "* MO: https://www.stltoday.com/news/local/govt-and-politics/missouri-leads-nation-in-anti-lgbtq-legislation/article_de653d4d-680c-5046-876b-386c0c51933a.html\n",
    "* MO: https://promoonline.org/campaigns/legislative-session\n",
    "* MT: https://dailymontanan.com/2023/01/24/legislators-trans-montanans-speak-out-against-slate-of-hate-bills\n",
    "* MT: https://montanafreepress.org/2023/02/28/montana-bill-creates-strict-definition-for-sex-legally-sidelining-intersex-and-transgender-people/\n",
    "* MT: https://montanafreepress.org/2023/01/25/montana-lgbtq-advocates-prepare-to-fight-hateful-attacks-at-2023-legislature/\n",
    "* NE: https://nebraskaexaminer.com/2023/03/01/lgbtq-protections-at-crossroads-in-nebraska-legislature/\n",
    "* NE: https://journalstar.com/news/state-and-regional/govt-and-politics/bills-banning-transgender-youth-from-treatment-and-participating-in-sports-draw-motion-to-end-legislative/article_3668088e-f838-5baa-9949-c6923fd7a557.html\n",
    "* NH: https://www.publicnewsservice.org/2023-03-10/lgbtqia-issues/community-members-rally-against-anti-lgbtq-bills-in-nh/a83431-1"
   ]
  },
  {
   "cell_type": "code",
   "execution_count": null,
   "id": "da44c633-c4a1-483b-aaf6-643e486df7d9",
   "metadata": {},
   "outputs": [],
   "source": []
  }
 ],
 "metadata": {
  "kernelspec": {
   "display_name": "Python 3 (ipykernel)",
   "language": "python",
   "name": "python3"
  },
  "language_info": {
   "codemirror_mode": {
    "name": "ipython",
    "version": 3
   },
   "file_extension": ".py",
   "mimetype": "text/x-python",
   "name": "python",
   "nbconvert_exporter": "python",
   "pygments_lexer": "ipython3",
   "version": "3.9.10"
  }
 },
 "nbformat": 4,
 "nbformat_minor": 5
}
