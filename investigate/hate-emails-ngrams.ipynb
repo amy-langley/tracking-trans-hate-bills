{
 "cells": [
  {
   "cell_type": "code",
   "execution_count": 1,
   "id": "cf597aba-47cf-4c65-9757-a06ee1a0ecdf",
   "metadata": {
    "tags": []
   },
   "outputs": [],
   "source": [
    "from nltk import ngrams, FreqDist\n",
    "\n",
    "from lib.language import tokenize_file\n",
    "from lib.util import load_json, write_json\n",
    "\n",
    "email_tokens = list(tokenize_file('../datasets/Emails.pdf'))\n",
    "email_tengrams = ngrams(email_tokens, 10)\n",
    "dist = FreqDist(email_tengrams)\n",
    "common_ngrams = {\n",
    "    ' '.join(k): v\n",
    "    for k, v\n",
    "    in dist.items()\n",
    "    if v > 5\n",
    "}\n",
    "\n",
    "write_json(common_ngrams, '../tmp/hate_email_frequent_gram-10.json')"
   ]
  },
  {
   "cell_type": "code",
   "execution_count": 2,
   "id": "f4ee42c4-49fb-4d74-91bb-44ec356b2a5c",
   "metadata": {
    "tags": []
   },
   "outputs": [
    {
     "data": {
      "text/plain": [
       "[]"
      ]
     },
     "execution_count": 2,
     "metadata": {},
     "output_type": "execute_result"
    }
   ],
   "source": [
    "common_ngrams_email = load_json('../tmp/hate_email_frequent_gram-10.json')\n",
    "common_ngrams_bills = load_json('../tmp/grams-10.json')\n",
    "\n",
    "[\n",
    "    (k, len(v), len(common_ngrams_email[k]))\n",
    "    for k, v\n",
    "    in common_ngrams_bills.items()\n",
    "    if k in common_ngrams_email\n",
    "]"
   ]
  }
 ],
 "metadata": {
  "kernelspec": {
   "display_name": "Python 3 (ipykernel)",
   "language": "python",
   "name": "python3"
  },
  "language_info": {
   "codemirror_mode": {
    "name": "ipython",
    "version": 3
   },
   "file_extension": ".py",
   "mimetype": "text/x-python",
   "name": "python",
   "nbconvert_exporter": "python",
   "pygments_lexer": "ipython3",
   "version": "3.9.10"
  }
 },
 "nbformat": 4,
 "nbformat_minor": 5
}
