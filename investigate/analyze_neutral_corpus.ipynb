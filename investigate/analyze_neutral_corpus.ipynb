{
 "cells": [
  {
   "cell_type": "code",
   "execution_count": null,
   "id": "8daeb921-0e8e-4b6d-8482-a815f44063ad",
   "metadata": {},
   "outputs": [],
   "source": [
    "from nltk import download as nltk_download\n",
    "\n",
    "nltk_download('punkt')\n",
    "nltk_download('averaged_perceptron_tagger')\n",
    "nltk_download('wordnet')"
   ]
  },
  {
   "cell_type": "code",
   "execution_count": 46,
   "id": "ebb9a1c3-777b-4b08-a801-23a8ce108fc1",
   "metadata": {
    "tags": []
   },
   "outputs": [],
   "source": [
    "from bs4 import BeautifulSoup as Soup\n",
    "import logging\n",
    "from nltk import pos_tag, word_tokenize\n",
    "from nltk.corpus import wordnet\n",
    "from nltk.stem import WordNetLemmatizer\n",
    "from os import path\n",
    "from PyPDF2 import PdfReader\n",
    "import string\n",
    "from typing import Iterable, List, Tuple\n",
    "\n",
    "lem = WordNetLemmatizer()\n",
    "\n",
    "logger = logging.getLogger(\"PyPDF2\")\n",
    "logger.setLevel(logging.ERROR)\n",
    "\n",
    "def extract_html_tokens(file_path: str) -> str:\n",
    "    soup = None\n",
    "    with open(file_path, 'rb') as f:\n",
    "        soup = Soup(f, 'html.parser')\n",
    "\n",
    "    for script in soup([\"script\", \"style\"]):\n",
    "        script.extract()\n",
    "\n",
    "    return soup.get_text()\n",
    "\n",
    "def extract_pdf_tokens(file_path: str) -> str:\n",
    "    text = ''\n",
    "    reader = PdfReader(file_path)\n",
    "    for page in reader.pages:\n",
    "        text = text + \"\\n\" + page.extract_text()\n",
    "\n",
    "    return text\n",
    "\n",
    "def extract_tokens(file_path: str) -> List[str]:\n",
    "    EXTRACTORS = {\n",
    "        '.html': extract_html_tokens,\n",
    "        '.pdf': extract_pdf_tokens,\n",
    "    }\n",
    "    \n",
    "    try:\n",
    "        extension = path.splitext(file_path)[-1].lower()\n",
    "        text = EXTRACTORS[extension](file_path)\n",
    "\n",
    "        text = (\n",
    "            text\n",
    "                .replace('—', '-')\n",
    "                .replace('“', '\"')\n",
    "                .replace('”', '\"')\n",
    "                .replace('’', '\\'')\n",
    "        )\n",
    "\n",
    "        return [\n",
    "            token.lower().strip(string.punctuation)\n",
    "            for token in word_tokenize(text)\n",
    "            if (\n",
    "                token\n",
    "                and token not in string.punctuation\n",
    "                and not token.replace('.', '').isnumeric()\n",
    "                and token.lower().strip(string.punctuation)\n",
    "            )\n",
    "        ]\n",
    "    except Exception as e:\n",
    "        print(f'Failed to extract {file_path}: {e}')\n",
    "        return []\n",
    "    \n",
    "def retag_for_wordnet(tagged_pair: Tuple[str, str]) -> Tuple[str, str]:\n",
    "    def get_wordnet_pos(treebank_tag):\n",
    "        if treebank_tag.startswith('J'):\n",
    "            return wordnet.ADJ\n",
    "        elif treebank_tag.startswith('V'):\n",
    "            return wordnet.VERB\n",
    "        elif treebank_tag.startswith('N'):\n",
    "            return wordnet.NOUN\n",
    "        elif treebank_tag.startswith('R'):\n",
    "            return wordnet.ADV\n",
    "        else:\n",
    "            return wordnet.NOUN\n",
    "    \n",
    "    word, tag = tagged_pair\n",
    "    return (word, get_wordnet_pos(tag))\n",
    "\n",
    "def tokens_from_file(file_path: str) -> Iterable[str]:\n",
    "    return (\n",
    "        lem.lemmatize(*retag_for_wordnet(tagpair))\n",
    "        for tagpair\n",
    "        in (pos_tag(extract_tokens(file_path)))\n",
    "    )"
   ]
  },
  {
   "cell_type": "code",
   "execution_count": 66,
   "id": "b38f55e9-8894-479e-a83d-7d096d8a0f26",
   "metadata": {
    "tags": []
   },
   "outputs": [
    {
     "name": "stdout",
     "output_type": "stream",
     "text": [
      "Failed to extract ../tmp/neutral_corpus/bills/empty: ''\n"
     ]
    }
   ],
   "source": [
    "from glob import glob\n",
    "from itertools import chain, islice\n",
    "from nltk import FreqDist\n",
    "import sys\n",
    "\n",
    "bills = glob('../tmp/neutral_corpus/bills/*')\n",
    "canonicalized_tokens = chain.from_iterable(\n",
    "    tokens_from_file(bill)\n",
    "    for bill\n",
    "    in bills\n",
    ")\n",
    "\n",
    "distribution = FreqDist(islice(canonicalized_tokens, sys.maxsize))"
   ]
  },
  {
   "cell_type": "code",
   "execution_count": 67,
   "id": "a2ffc5eb-5e61-4dbe-9e77-b80df8ef5c25",
   "metadata": {
    "tags": []
   },
   "outputs": [
    {
     "data": {
      "image/png": "[encoded data removed]",
      "text/plain": [
       "<Figure size 1000x700 with 1 Axes>"
      ]
     },
     "metadata": {},
     "output_type": "display_data"
    }
   ],
   "source": [
    "from matplotlib import pyplot as plt\n",
    "\n",
    "# Creating histogram\n",
    "fig, ax = plt.subplots(figsize =(10, 7))\n",
    "ax.hist([val for val in distribution.values() if val > 0], bins=100)\n",
    "plt.yscale('log')\n",
    " \n",
    "# Show plot\n",
    "plt.show()"
   ]
  },
  {
   "cell_type": "code",
   "execution_count": 91,
   "id": "e29e7a26-e2d8-446a-a2a3-463f22a68895",
   "metadata": {
    "tags": []
   },
   "outputs": [
    {
     "name": "stdout",
     "output_type": "stream",
     "text": [
      "298\n"
     ]
    }
   ],
   "source": [
    "import json\n",
    "\n",
    "stoplist = list(\n",
    "    k\n",
    "    for k, v in distribution.items()\n",
    "    if v > 800\n",
    ")\n",
    "\n",
    "print(len(stoplist))\n",
    "# 100*len(stoplist)/len(distribution.keys())\n",
    "\n",
    "with open('../artifacts/legal_stopwords.json', 'w') as f:\n",
    "    json.dump(stoplist, f, indent=2)"
   ]
  },
  {
   "cell_type": "code",
   "execution_count": 85,
   "id": "6322341e-fc6b-48e2-ad14-f80bd143d0ff",
   "metadata": {
    "tags": []
   },
   "outputs": [
    {
     "data": {
      "text/plain": [
       "192"
      ]
     },
     "execution_count": 85,
     "metadata": {},
     "output_type": "execute_result"
    }
   ],
   "source": [
    "from wordcloud import STOPWORDS\n",
    "len(STOPWORDS)"
   ]
  }
 ],
 "metadata": {
  "kernelspec": {
   "display_name": "Python 3 (ipykernel)",
   "language": "python",
   "name": "python3"
  },
  "language_info": {
   "codemirror_mode": {
    "name": "ipython",
    "version": 3
   },
   "file_extension": ".py",
   "mimetype": "text/x-python",
   "name": "python",
   "nbconvert_exporter": "python",
   "pygments_lexer": "ipython3",
   "version": "3.9.10"
  }
 },
 "nbformat": 4,
 "nbformat_minor": 5
}
