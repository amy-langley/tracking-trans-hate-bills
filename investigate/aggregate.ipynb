{
 "cells": [
  {
   "cell_type": "code",
   "execution_count": 1,
   "id": "a2068faa-aa21-410d-be76-1b9ce9ffb4e2",
   "metadata": {
    "tags": []
   },
   "outputs": [
    {
     "name": "stdout",
     "output_type": "stream",
     "text": [
      "Summarized 503 items (0.16s elapsed)\n"
     ]
    }
   ],
   "source": [
    "from enum import IntEnum\n",
    "import glob\n",
    "import json\n",
    "import time\n",
    "\n",
    "from lib.tasks import build_aggregate_dataset_from_path\n",
    "\n",
    "start = time.time()\n",
    "\n",
    "summaries = build_aggregate_dataset_from_path('../tmp/legiscan', '../artifacts/aggregate.json')\n",
    "    \n",
    "end = time.time()\n",
    "\n",
    "print(f'Summarized {len(summaries)} items ({(end-start):.2f}s elapsed)')"
   ]
  }
 ],
 "metadata": {
  "kernelspec": {
   "display_name": "Python 3 (ipykernel)",
   "language": "python",
   "name": "python3"
  },
  "language_info": {
   "codemirror_mode": {
    "name": "ipython",
    "version": 3
   },
   "file_extension": ".py",
   "mimetype": "text/x-python",
   "name": "python",
   "nbconvert_exporter": "python",
   "pygments_lexer": "ipython3",
   "version": "3.9.10"
  }
 },
 "nbformat": 4,
 "nbformat_minor": 5
}
