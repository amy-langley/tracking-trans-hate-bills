{
 "cells": [
  {
   "cell_type": "code",
   "execution_count": 2,
   "id": "a2068faa-aa21-410d-be76-1b9ce9ffb4e2",
   "metadata": {
    "tags": []
   },
   "outputs": [],
   "source": [
    "import glob\n",
    "from operator import itemgetter\n",
    "import json\n",
    "\n",
    "metas =  glob.glob('../tmp/*meta*.json')\n",
    "def get_meta(meta_name):\n",
    "    with open(meta_name, 'r') as f:\n",
    "        return json.load(f)\n",
    "    \n",
    "def summarize(meta):\n",
    "    bill = meta['bill']\n",
    "    state, bill_id, status_date, legiscan_bill_id = itemgetter('state', 'bill_number', 'status_date', 'bill_id')(bill)\n",
    "    \n",
    "    return {\n",
    "        'state': state,\n",
    "        'bill_id': bill_id,\n",
    "        'status_date': status_date,\n",
    "        'legiscan_bill_id': legiscan_bill_id,\n",
    "    }\n",
    "\n",
    "with open('../artifacts/aggregate.json', 'w') as f:\n",
    "    json.dump([summarize(get_meta(meta)) for meta in metas], f, indent=2)"
   ]
  }
 ],
 "metadata": {
  "kernelspec": {
   "display_name": "Python 3 (ipykernel)",
   "language": "python",
   "name": "python3"
  },
  "language_info": {
   "codemirror_mode": {
    "name": "ipython",
    "version": 3
   },
   "file_extension": ".py",
   "mimetype": "text/x-python",
   "name": "python",
   "nbconvert_exporter": "python",
   "pygments_lexer": "ipython3",
   "version": "3.9.10"
  }
 },
 "nbformat": 4,
 "nbformat_minor": 5
}
