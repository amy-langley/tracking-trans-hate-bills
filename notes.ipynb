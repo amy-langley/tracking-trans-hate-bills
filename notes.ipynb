{
 "cells": [
  {
   "cell_type": "markdown",
   "id": "0b61c7cc-6c1b-47af-8141-10ebf70cfae5",
   "metadata": {},
   "source": [
    "# Resources:\n",
    "$ \\varphi + \\Sigma + \\sum^{\\inf}_{i=\\pi}2$\n",
    "* [extract clean text from html](https://stackoverflow.com/questions/328356/extracting-text-from-html-file-using-python)\n",
    "* [extract clean text from pdf](https://www.geeksforgeeks.org/extract-text-from-pdf-file-using-python/)\n",
    "* [word cloud tutorial](https://towardsdatascience.com/simple-wordcloud-in-python-2ae54a9f58e5)\n",
    "* [more choropleth stuff](https://towardsdatascience.com/simplest-way-of-creating-a-choropleth-map-by-u-s-states-in-python-f359ada7735e)\n",
    "* [another source of data, openstates](https://openstates.org/)\n",
    "* [graphs of bill sponsors](https://blog.jupyter.org/interactive-graph-visualization-in-jupyter-with-ipycytoscape-a8828a54ab63)\n",
    "* [stemming of source text](https://www.geeksforgeeks.org/python-stemming-words-with-nltk/)\n",
    "* [wordcloud api ref](https://amueller.github.io/word_cloud/generated/wordcloud.WordCloud.html)\n",
    "* [legiscan api home](https://legiscan.com/legiscan)\n",
    "* [notes on colormaps](https://matplotlib.org/stable/tutorials/colors/colormaps.html)\n",
    "* [choropleth maps without plotly](https://towardsdatascience.com/a-beginners-guide-to-create-a-cloropleth-map-in-python-using-geopandas-and-matplotlib-9cc4175ab630)\n",
    "* [choropleth with pie](https://github.com/vinceniko/choropie)\n",
    "\n",
    "Other bill trackers:\n",
    "\n",
    "* https://www.equalitytexas.org/legislature/legislative-bill-tracker-2023/?fbclid=IwAR1E4_N5XrtSbOwMjCBvvDqskEMDbbIY_9SsQiMsKXbLiVPw2IIU3rR2hyw"
   ]
  }
 ],
 "metadata": {
  "kernelspec": {
   "display_name": "Python 3 (ipykernel)",
   "language": "python",
   "name": "python3"
  },
  "language_info": {
   "codemirror_mode": {
    "name": "ipython",
    "version": 3
   },
   "file_extension": ".py",
   "mimetype": "text/x-python",
   "name": "python",
   "nbconvert_exporter": "python",
   "pygments_lexer": "ipython3",
   "version": "3.9.10"
  }
 },
 "nbformat": 4,
 "nbformat_minor": 5
}
