{
 "cells": [
  {
   "cell_type": "code",
   "execution_count": 1,
   "id": "4844a054-20b8-4fad-9a89-18518dffb924",
   "metadata": {
    "tags": []
   },
   "outputs": [
    {
     "name": "stderr",
     "output_type": "stream",
     "text": [
      "Resolution failure: ('OH', 'SB 83') Unknown prefix S for OH SB 83\n",
      "Resolution failure: ('TX', 'HB 5127') No relevant matches for TX HB 5127\n",
      "Resolution failure: ('TX', 'HB 5261') No relevant matches for TX HB 5261\n",
      "Resolution failure: ('MA', 'H. 458') Unknown state MA for MA H. 458\n",
      "Resolution failure: ('MA', 'H. 509') Unknown state MA for MA H. 509\n",
      "Resolution failure: ('TX', 'SB 17') No relevant matches for TX SB 17\n",
      "Resolution failure: ('TX', 'SB 2199') No relevant matches for TX SB 2199\n",
      "Resolution failure: ('TX', 'SB 8') No relevant matches for TX SB 8\n",
      "Resolution failure: ('TX', 'HB 4624') No relevant matches for TX HB 4624\n",
      "Resolution failure: ('TX', 'HB 3164') No relevant matches for TX HB 3164\n",
      "Resolution failure: ('ME', 'HP 577') No relevant matches for ME HP 577\n",
      "Resolution failure: ('ME', 'HP 447') No relevant matches for ME HP 447\n",
      "Resolution failure: ('ID', 'HB 63') No relevant matches for ID HB 63\n",
      "Resolution failure: ('IA', 'HF 9') No relevant matches for IA HF 9\n"
     ]
    }
   ],
   "source": [
    "import pandas as pd\n",
    "\n",
    "from lib.tasks.legiscan import infer_resolver_map, augment_resolver_map\n",
    "\n",
    "LEGISCAN_API_URL = 'https://api.legiscan.com/'\n",
    "ACLU_DATA_PATH = '../datasets/aclu.json'\n",
    "TTL_DATA_PATH = '../datasets/tracktranslegislation.json'\n",
    "RESOLVER_MAP = '../artifacts/resolver_map.json'\n",
    "HINT_MAP = '../configuration/resolver_hints.json'\n",
    "\n",
    "new_mapper = infer_resolver_map(TTL_DATA_PATH, RESOLVER_MAP, HINT_MAP)\n",
    "aclu_data = pd.read_json(ACLU_DATA_PATH)\n",
    "\n",
    "augment_resolver_map(\n",
    "    new_mapper, \n",
    "    [(row['state']['value'], row['name']) for idx, row in aclu_data.iterrows()], #  if row['state']['value']=='ID'\n",
    "    RESOLVER_MAP,\n",
    ")"
   ]
  }
 ],
 "metadata": {
  "kernelspec": {
   "display_name": "Python 3 (ipykernel)",
   "language": "python",
   "name": "python3"
  },
  "language_info": {
   "codemirror_mode": {
    "name": "ipython",
    "version": 3
   },
   "file_extension": ".py",
   "mimetype": "text/x-python",
   "name": "python",
   "nbconvert_exporter": "python",
   "pygments_lexer": "ipython3",
   "version": "3.9.10"
  }
 },
 "nbformat": 4,
 "nbformat_minor": 5
}
